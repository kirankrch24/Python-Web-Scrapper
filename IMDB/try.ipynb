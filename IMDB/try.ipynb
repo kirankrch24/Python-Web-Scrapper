{
 "cells": [
  {
   "cell_type": "markdown",
   "id": "e3a459a3",
   "metadata": {},
   "source": [
    "# Just for practice "
   ]
  },
  {
   "cell_type": "code",
   "execution_count": 2,
   "id": "a79da9f6",
   "metadata": {},
   "outputs": [],
   "source": [
    "import pandas as pd\n",
    "import requests\n",
    "from bs4 import BeautifulSoup\n",
    "import pandas as pd\n",
    "import csv"
   ]
  },
  {
   "cell_type": "markdown",
   "id": "78f92896",
   "metadata": {},
   "source": [
    "Just extracting html code in txt file to undestand html code which help to extract data"
   ]
  },
  {
   "cell_type": "code",
   "execution_count": 4,
   "id": "c912955e",
   "metadata": {},
   "outputs": [],
   "source": [
    "url1 = 'https://www.imdb.com/chart/top'\n",
    "response = requests.get(url1)\n",
    "soup1 = BeautifulSoup(response.content, 'html.parser')\n",
    "html_string = soup1.prettify()\n",
    "text_string = html_string\n",
    "\n",
    "with open('IMDB.txt', 'w') as file:\n",
    "    file.write(text_string)"
   ]
  },
  {
   "cell_type": "markdown",
   "id": "6d10a3e5",
   "metadata": {},
   "source": [
    "Just checking code for first movie"
   ]
  },
  {
   "cell_type": "code",
   "execution_count": null,
   "id": "d4513712",
   "metadata": {},
   "outputs": [],
   "source": [
    "row1 = movie_table.find_all('tr')[1]\n",
    "print(row1)\n",
    "title_column1 = row1.find('td', {'class': 'titleColumn'})\n",
    "title1 = title_column1.find('a').text\n",
    "\n",
    "year1 = row1.find('span',{'class': 'secondaryInfo'}).text.strip('()')\n",
    "rating1 = row1.find('td',{'class': 'ratingColumn imdbRating'}).text.strip()\n",
    "print('\\n\\n\\n\\n\\n\\n')\n",
    "print(\"Title : \" + title1)\n",
    "print(\"Year : \" + year1)\n",
    "print(\"Rating : \" + rating1)"
   ]
  }
 ],
 "metadata": {
  "kernelspec": {
   "display_name": "Python 3 (ipykernel)",
   "language": "python",
   "name": "python3"
  },
  "language_info": {
   "codemirror_mode": {
    "name": "ipython",
    "version": 3
   },
   "file_extension": ".py",
   "mimetype": "text/x-python",
   "name": "python",
   "nbconvert_exporter": "python",
   "pygments_lexer": "ipython3",
   "version": "3.9.12"
  }
 },
 "nbformat": 4,
 "nbformat_minor": 5
}
