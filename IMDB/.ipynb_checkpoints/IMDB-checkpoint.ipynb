{
 "cells": [
  {
   "cell_type": "markdown",
   "id": "8c52fdcc",
   "metadata": {},
   "source": [
    "# **IMDB Python web scraper**\n",
    "\n",
    "It retrieves the top-rated movies data from the IMDB website and saves it to a CSV file. \n",
    "The scraper uses the requests module to make an HTTP GET request to the top-rated movies page on the IMDB website. \n",
    "It then uses BeautifulSoup to parse the HTML content of the website and extract the movie title, year, \n",
    "and rating for each movie. The data is stored in a list of lists, with each inner list representing the data \n",
    "for a single movie.\n",
    "\n",
    "The scraper then uses the csv module to write the scraped data to a CSV file called top-rated-movies.csv. \n",
    "The data is written to the file in comma-separated value format, with each row representing the data for a \n",
    "single movie and the first row containing the column names.\n",
    "\n",
    "This web scraper can be used to retrieve and analyze the top-rated movies data from IMDB. \n",
    "The extracted data can be used for various purposes, such as building a recommendation engine, \n",
    "analyzing trends in movie ratings, or creating a visual representation of the top-rated movies data. \n",
    "The flexibility of Python and its packages make it a powerful tool for web scraping and data analysis."
   ]
  },
  {
   "cell_type": "markdown",
   "id": "5550dd77",
   "metadata": {},
   "source": [
    "Importing 'requests' packege as it allows us to make HTTP requests to the IMDB website, BeautifulSoup is a library that helps us parse the HTML content of the website, and csv is a module that allows us to read and write data in CSV (comma-separated value) format."
   ]
  },
  {
   "cell_type": "code",
   "execution_count": 2,
   "id": "963af0d4",
   "metadata": {},
   "outputs": [],
   "source": [
    "import requests\n",
    "from bs4 import BeautifulSoup\n",
    "import pandas as pd"
   ]
  },
  {
   "cell_type": "code",
   "execution_count": 18,
   "id": "288e0264",
   "metadata": {},
   "outputs": [],
   "source": [
    "url = 'https://www.imdb.com/chart/top'\n",
    "response = requests.get(url)\n",
    "soup = BeautifulSoup(response.content, 'html.parser')\n",
    "\n",
    "movie_table = soup.find('table', {'class': 'chart full-width'})\n",
    "movies = []\n",
    "for row in movie_table.find_all('tr')[1:]:\n",
    "    title_column = row.find('td', {'class': 'titleColumn'})\n",
    "    title = title_column.find('a').text\n",
    "    year = title_column.find('span', {'class': 'secondaryInfo'}).text.strip('()')\n",
    "    rating = row.find('td', {'class': 'ratingColumn imdbRating'}).text.strip()\n",
    "    movies.append([title, year, rating])\n",
    "\n",
    "df = pd.DataFrame(movies, columns=['Title', 'Year', 'Rating'])\n",
    "print(df.head(21))\n",
    "\n",
    "\n",
    "with open('top-rated-movies.csv', mode='w', newline='') as file:\n",
    "    writer = csv.writer(file)\n",
    "    writer.writerow(['Title', 'Year', 'Rating'])\n",
    "    for movie in movies:\n",
    "        writer.writerow(movie)"
   ]
  },
  {
   "cell_type": "code",
   "execution_count": 20,
   "id": "39385fd0",
   "metadata": {},
   "outputs": [],
   "source": []
  },
  {
   "cell_type": "code",
   "execution_count": null,
   "id": "d49c7f36",
   "metadata": {},
   "outputs": [],
   "source": []
  }
 ],
 "metadata": {
  "kernelspec": {
   "display_name": "Python 3 (ipykernel)",
   "language": "python",
   "name": "python3"
  },
  "language_info": {
   "codemirror_mode": {
    "name": "ipython",
    "version": 3
   },
   "file_extension": ".py",
   "mimetype": "text/x-python",
   "name": "python",
   "nbconvert_exporter": "python",
   "pygments_lexer": "ipython3",
   "version": "3.9.12"
  }
 },
 "nbformat": 4,
 "nbformat_minor": 5
}
