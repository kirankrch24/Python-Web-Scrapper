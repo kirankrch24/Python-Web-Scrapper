{
 "cells": [
  {
   "cell_type": "code",
   "execution_count": null,
   "id": "fedb99c4",
   "metadata": {},
   "outputs": [],
   "source": [
    "import pandas as pd\n",
    "\n",
    "url1 = 'https://www.facebook.com/kirankr24'\n",
    "response = requests.get(url1)\n",
    "soup1 = BeautifulSoup(response.content, 'html.parser')\n",
    "\n",
    "html_string1 = soup1.prettify()\n",
    "with open('Facebook.txt', 'w') as file:\n",
    "    file.write(text_string)"
   ]
  },
  {
   "cell_type": "code",
   "execution_count": null,
   "id": "c912955e",
   "metadata": {},
   "outputs": [],
   "source": [
    "html_string = soup.prettify()\n",
    "text_string = html_string\n",
    "\n",
    "with open('IMDB.txt', 'w') as file:\n",
    "    file.write(text_string)"
   ]
  }
 ],
 "metadata": {
  "kernelspec": {
   "display_name": "Python 3 (ipykernel)",
   "language": "python",
   "name": "python3"
  },
  "language_info": {
   "codemirror_mode": {
    "name": "ipython",
    "version": 3
   },
   "file_extension": ".py",
   "mimetype": "text/x-python",
   "name": "python",
   "nbconvert_exporter": "python",
   "pygments_lexer": "ipython3",
   "version": "3.9.12"
  }
 },
 "nbformat": 4,
 "nbformat_minor": 5
}
