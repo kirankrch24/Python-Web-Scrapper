{
 "cells": [
  {
   "cell_type": "markdown",
   "id": "5550dd77",
   "metadata": {},
   "source": [
    "Install Python and a package manager like pip, if you haven't already done so.\n",
    "\n",
    "Install the requests and BeautifulSoup4 packages using pip. These packages are used to make HTTP requests and parse HTML respectively."
   ]
  },
  {
   "cell_type": "code",
   "execution_count": 16,
   "id": "963af0d4",
   "metadata": {},
   "outputs": [
    {
     "name": "stdout",
     "output_type": "stream",
     "text": [
      "                                                Title  Year Rating\n",
      "0                            The Shawshank Redemption  1994    9.2\n",
      "1                                       The Godfather  1972    9.2\n",
      "2                                     The Dark Knight  2008    9.0\n",
      "3                               The Godfather Part II  1974    9.0\n",
      "4                                        12 Angry Men  1957    9.0\n",
      "5                                    Schindler's List  1993    8.9\n",
      "6       The Lord of the Rings: The Return of the King  2003    8.9\n",
      "7                                        Pulp Fiction  1994    8.8\n",
      "8   The Lord of the Rings: The Fellowship of the Ring  2001    8.8\n",
      "9                      The Good, the Bad and the Ugly  1966    8.8\n",
      "10                                       Forrest Gump  1994    8.8\n",
      "11                                         Fight Club  1999    8.7\n",
      "12              The Lord of the Rings: The Two Towers  2002    8.7\n",
      "13                                          Inception  2010    8.7\n",
      "14     Star Wars: Episode V - The Empire Strikes Back  1980    8.7\n",
      "15                                         The Matrix  1999    8.7\n",
      "16                                         GoodFellas  1990    8.7\n",
      "17                    One Flew Over the Cuckoo's Nest  1975    8.6\n",
      "18                                              Seven  1995    8.6\n",
      "19                                      Seven Samurai  1954    8.6\n",
      "20                              It's a Wonderful Life  1946    8.6\n"
     ]
    }
   ],
   "source": [
    "import requests\n",
    "from bs4 import BeautifulSoup\n",
    "import pandas as pd\n",
    "\n",
    "url = 'https://www.imdb.com/chart/top'\n",
    "response = requests.get(url)\n",
    "soup = BeautifulSoup(response.content, 'html.parser')\n",
    "\n",
    "movie_table = soup.find('table', {'class': 'chart full-width'})\n",
    "movies = []\n",
    "for row in movie_table.find_all('tr')[1:]:\n",
    "    title_column = row.find('td', {'class': 'titleColumn'})\n",
    "    title = title_column.find('a').text\n",
    "    year = title_column.find('span', {'class': 'secondaryInfo'}).text.strip('()')\n",
    "    rating = row.find('td', {'class': 'ratingColumn imdbRating'}).text.strip()\n",
    "    movies.append([title, year, rating])\n",
    "\n",
    "df = pd.DataFrame(movies, columns=['Title', 'Year', 'Rating'])\n",
    "print(df.head(21))\n",
    "\n",
    "\n",
    "with open('top-rated-movies.csv', mode='w', newline='') as file:\n",
    "    writer = csv.writer(file)\n",
    "    writer.writerow(['Title', 'Year', 'Rating'])\n",
    "    for movie in movies:\n",
    "        writer.writerow(movie)"
   ]
  },
  {
   "cell_type": "code",
   "execution_count": 18,
   "id": "288e0264",
   "metadata": {},
   "outputs": [],
   "source": [
    "html_string = soup.prettify()\n",
    "text_string = html_string\n",
    "\n",
    "with open('IMDB.txt', 'w') as file:\n",
    "    file.write(text_string)"
   ]
  },
  {
   "cell_type": "code",
   "execution_count": 20,
   "id": "39385fd0",
   "metadata": {},
   "outputs": [],
   "source": [
    "import pandas as pd\n",
    "\n",
    "url1 = 'https://www.facebook.com/kirankr24'\n",
    "response = requests.get(url1)\n",
    "soup1 = BeautifulSoup(response.content, 'html.parser')\n",
    "\n",
    "html_string1 = soup1.prettify()\n",
    "with open('Facebook.txt', 'w') as file:\n",
    "    file.write(text_string)"
   ]
  },
  {
   "cell_type": "code",
   "execution_count": null,
   "id": "d49c7f36",
   "metadata": {},
   "outputs": [],
   "source": []
  }
 ],
 "metadata": {
  "kernelspec": {
   "display_name": "Python 3 (ipykernel)",
   "language": "python",
   "name": "python3"
  },
  "language_info": {
   "codemirror_mode": {
    "name": "ipython",
    "version": 3
   },
   "file_extension": ".py",
   "mimetype": "text/x-python",
   "name": "python",
   "nbconvert_exporter": "python",
   "pygments_lexer": "ipython3",
   "version": "3.9.12"
  }
 },
 "nbformat": 4,
 "nbformat_minor": 5
}
