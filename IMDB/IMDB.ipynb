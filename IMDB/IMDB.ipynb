{
 "cells": [
  {
   "cell_type": "markdown",
   "id": "f5766465",
   "metadata": {},
   "source": [
    "# **IMDB Python web scraper**\n",
    "\n",
    "It retrieves the top-rated movies data from the IMDB website and saves it to a CSV file. \n",
    "The scraper uses the requests module to make an HTTP GET request to the top-rated movies page on the IMDB website. \n",
    "It then uses BeautifulSoup to parse the HTML content of the website and extract the movie title, year, \n",
    "and rating for each movie. The data is stored in a list of lists, with each inner list representing the data \n",
    "for a single movie.\n",
    "\n",
    "The scraper then uses the csv module to write the scraped data to a CSV file called top-rated-movies.csv. \n",
    "The data is written to the file in comma-separated value format, with each row representing the data for a \n",
    "single movie and the first row containing the column names."
   ]
  },
  {
   "cell_type": "markdown",
   "id": "d3424413",
   "metadata": {},
   "source": [
    "## Code and Description"
   ]
  },
  {
   "cell_type": "markdown",
   "id": "5550dd77",
   "metadata": {},
   "source": [
    "### Importing \n",
    "Importing 'requests' packege as it allows us to make HTTP requests to the IMDB website, BeautifulSoup is a library that helps us parse the HTML content of the website, and csv is a module that allows us to read and write data in CSV (comma-separated value) format."
   ]
  },
  {
   "cell_type": "code",
   "execution_count": 5,
   "id": "963af0d4",
   "metadata": {},
   "outputs": [],
   "source": [
    "# Importing required packages\n",
    "import requests\n",
    "from bs4 import BeautifulSoup\n",
    "import pandas as pd\n",
    "import csv"
   ]
  },
  {
   "cell_type": "markdown",
   "id": "4f771f3c",
   "metadata": {},
   "source": [
    "### Requesting\n",
    "\n",
    "These below lines of code make a request to the IMDB website and retrieve the HTML content of the top-rated movies page. "
   ]
  },
  {
   "cell_type": "code",
   "execution_count": 6,
   "id": "288e0264",
   "metadata": {},
   "outputs": [],
   "source": [
    "# store requesting site in 'url' variable\n",
    "url = 'https://www.imdb.com/chart/top'\n",
    "\n",
    "# request the website and retrieve its content\n",
    "response = requests.get(url)\n",
    "\n",
    "# parse the HTML content of the website and store the result in a variable called soup\n",
    "soup = BeautifulSoup(response.content, 'html.parser')\n"
   ]
  },
  {
   "cell_type": "markdown",
   "id": "28459794",
   "metadata": {},
   "source": [
    "### Extracting\n",
    "\n",
    "Extracting the top-rated movies data from the HTML content of the website"
   ]
  },
  {
   "cell_type": "code",
   "execution_count": 24,
   "id": "39385fd0",
   "metadata": {},
   "outputs": [],
   "source": [
    "# movie table store table content with html code\n",
    "movie_table = soup.find('table', {'class': 'chart full-width'})\n",
    "\n",
    "# assigning empty movies list to store extracted movies \n",
    "movies = []\n",
    "\n",
    "# using loop extract and append movies\n",
    "for row in movie_table.find_all('tr')[1:]:\n",
    "    \n",
    "    #finding title of movie\n",
    "    title_column = row.find('td', {'class': 'titleColumn'})\n",
    "    title = title_column.find('a').text\n",
    "    \n",
    "    #finding year it released in \n",
    "    year = title_column.find('span', {'class': 'secondaryInfo'}).text.strip('()')\n",
    "    \n",
    "    #finding rating of it\n",
    "    rating = row.find('td', {'class': 'ratingColumn imdbRating'}).text.strip()\n",
    "    \n",
    "    #appending each movie title, year and rating in movies list\n",
    "    movies.append([title, year, rating])"
   ]
  },
  {
   "cell_type": "markdown",
   "id": "62ad0aad",
   "metadata": {},
   "source": [
    "### Writing CSV file\n",
    "\n",
    "write the extracted data to a CSV file called top-rated-movies.csv."
   ]
  },
  {
   "cell_type": "code",
   "execution_count": 26,
   "id": "d49c7f36",
   "metadata": {},
   "outputs": [],
   "source": [
    "with open('top-rated-movies.csv', mode='w', newline='') as file:\n",
    "    writer = csv.writer(file)\n",
    "    writer.writerow(['Title', 'Year', 'Rating'])\n",
    "    for movie in movies:\n",
    "        writer.writerow(movie)"
   ]
  },
  {
   "cell_type": "code",
   "execution_count": 27,
   "id": "51e954db",
   "metadata": {},
   "outputs": [
    {
     "name": "stdout",
     "output_type": "stream",
     "text": [
      "                                                Title  Year Rating\n",
      "0                            The Shawshank Redemption  1994    9.2\n",
      "1                                       The Godfather  1972    9.2\n",
      "2                                     The Dark Knight  2008    9.0\n",
      "3                               The Godfather Part II  1974    9.0\n",
      "4                                        12 Angry Men  1957    9.0\n",
      "5                                    Schindler's List  1993    8.9\n",
      "6       The Lord of the Rings: The Return of the King  2003    8.9\n",
      "7                                        Pulp Fiction  1994    8.8\n",
      "8   The Lord of the Rings: The Fellowship of the Ring  2001    8.8\n",
      "9                      The Good, the Bad and the Ugly  1966    8.8\n",
      "10                                       Forrest Gump  1994    8.8\n",
      "11                                         Fight Club  1999    8.7\n",
      "12              The Lord of the Rings: The Two Towers  2002    8.7\n",
      "13                                          Inception  2010    8.7\n",
      "14     Star Wars: Episode V - The Empire Strikes Back  1980    8.7\n",
      "15                                         The Matrix  1999    8.7\n",
      "16                                         GoodFellas  1990    8.7\n",
      "17                    One Flew Over the Cuckoo's Nest  1975    8.6\n",
      "18                                              Seven  1995    8.6\n",
      "19                                      Seven Samurai  1954    8.6\n",
      "20                              It's a Wonderful Life  1946    8.6\n"
     ]
    }
   ],
   "source": [
    "# coverting movies list to dataframe \n",
    "df = pd.DataFrame(movies, columns=['Title', 'Year', 'Rating'])\n",
    "print(df.head(21))"
   ]
  },
  {
   "cell_type": "markdown",
   "id": "bde1bcca",
   "metadata": {},
   "source": [
    "This is just the basic python web scrapper \n",
    "\n",
    "### Thank You"
   ]
  }
 ],
 "metadata": {
  "kernelspec": {
   "display_name": "Python 3 (ipykernel)",
   "language": "python",
   "name": "python3"
  },
  "language_info": {
   "codemirror_mode": {
    "name": "ipython",
    "version": 3
   },
   "file_extension": ".py",
   "mimetype": "text/x-python",
   "name": "python",
   "nbconvert_exporter": "python",
   "pygments_lexer": "ipython3",
   "version": "3.9.12"
  }
 },
 "nbformat": 4,
 "nbformat_minor": 5
}
